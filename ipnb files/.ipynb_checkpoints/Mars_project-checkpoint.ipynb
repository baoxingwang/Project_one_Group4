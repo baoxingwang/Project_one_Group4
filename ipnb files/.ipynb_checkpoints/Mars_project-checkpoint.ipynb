{
 "cells": [
  {
   "cell_type": "code",
   "execution_count": null,
   "metadata": {},
   "outputs": [],
   "source": [
    "# Dependencies :  pandas, numpy, matplotlib, os, cvs_reader, stats,"
   ]
  },
  {
   "cell_type": "code",
   "execution_count": 26,
   "metadata": {},
   "outputs": [],
   "source": [
    "import pandas as pd\n",
    "import os\n",
    "\n",
    "\n"
   ]
  },
  {
   "cell_type": "code",
   "execution_count": 27,
   "metadata": {},
   "outputs": [],
   "source": [
    "# reading data and set the DataFrame"
   ]
  },
  {
   "cell_type": "code",
   "execution_count": 28,
   "metadata": {},
   "outputs": [
    {
     "name": "stdout",
     "output_type": "stream",
     "text": [
      "(76776, 2)\n",
      "(75208, 2)\n",
      "(88175, 2)\n",
      "(88964, 2)\n",
      "(687, 7)\n",
      "(687, 7)\n",
      "(687, 7)\n",
      "(687, 7)\n"
     ]
    }
   ],
   "source": [
    "data_file_1 = os.path.join('..','mars_data_raw','context--2008-08-22_2010-07-10--evtf.csv')\n",
    "data_file_2 = os.path.join('..','mars_data_raw','context--2010-07-10_2012-05-27--evtf.csv')\n",
    "data_file_3 = os.path.join('..','mars_data_raw','context--2012-05-27_2014-04-14--evtf.csv')\n",
    "data_file_4 = os.path.join('..','mars_data_raw','context--2014-04-14_2016-03-01--evtf.csv')\n",
    "\n",
    "event_pd1 = pd.read_csv(data_file_1)\n",
    "event_pd2 = pd.read_csv(data_file_2)\n",
    "event_pd3 = pd.read_csv(data_file_3)\n",
    "event_pd4 = pd.read_csv(data_file_4)\n",
    "\n",
    "print(event_pd1.shape)\n",
    "print(event_pd2.shape)\n",
    "print(event_pd3.shape)\n",
    "print(event_pd4.shape)\n",
    "\n",
    "data_file_5 = os.path.join('..','mars_data_raw','context--2008-08-22_2010-07-10--ltdata.csv')\n",
    "data_file_6 = os.path.join('..','mars_data_raw','context--2010-07-10_2012-05-27--ltdata.csv')\n",
    "data_file_7 = os.path.join('..','mars_data_raw','context--2012-05-27_2014-04-14--ltdata.csv')\n",
    "data_file_8 = os.path.join('..','mars_data_raw','context--2014-04-14_2016-03-01--ltdata.csv')\n",
    "\n",
    "data_pd1 = pd.read_csv(data_file_5)\n",
    "data_pd2 = pd.read_csv(data_file_6)\n",
    "data_pd3 = pd.read_csv(data_file_7)\n",
    "data_pd4 = pd.read_csv(data_file_8)\n",
    "\n",
    "print(data_pd1.shape)\n",
    "print(data_pd2.shape)\n",
    "print(data_pd3.shape)\n",
    "print(data_pd4.shape)\n",
    "\n",
    "\n",
    "\n"
   ]
  },
  {
   "cell_type": "code",
   "execution_count": 29,
   "metadata": {},
   "outputs": [],
   "source": [
    "# merge all the the event files to event_full_df"
   ]
  },
  {
   "cell_type": "code",
   "execution_count": 30,
   "metadata": {},
   "outputs": [
    {
     "name": "stdout",
     "output_type": "stream",
     "text": [
      "(329123, 2)\n"
     ]
    },
    {
     "data": {
      "text/html": [
       "<div>\n",
       "<style scoped>\n",
       "    .dataframe tbody tr th:only-of-type {\n",
       "        vertical-align: middle;\n",
       "    }\n",
       "\n",
       "    .dataframe tbody tr th {\n",
       "        vertical-align: top;\n",
       "    }\n",
       "\n",
       "    .dataframe thead th {\n",
       "        text-align: right;\n",
       "    }\n",
       "</style>\n",
       "<table border=\"1\" class=\"dataframe\">\n",
       "  <thead>\n",
       "    <tr style=\"text-align: right;\">\n",
       "      <th></th>\n",
       "      <th>ut_ms</th>\n",
       "      <th>description</th>\n",
       "    </tr>\n",
       "  </thead>\n",
       "  <tbody>\n",
       "    <tr>\n",
       "      <td>0</td>\n",
       "      <td>1219364253000</td>\n",
       "      <td>MLG_LOS_05_/_RTLT_02373</td>\n",
       "    </tr>\n",
       "    <tr>\n",
       "      <td>1</td>\n",
       "      <td>1219364356000</td>\n",
       "      <td>NNO_AOS_00_/_RTLT_02373</td>\n",
       "    </tr>\n",
       "    <tr>\n",
       "      <td>2</td>\n",
       "      <td>1219365058000</td>\n",
       "      <td>MLG_LOS_02_/_RTLT_02373</td>\n",
       "    </tr>\n",
       "    <tr>\n",
       "      <td>3</td>\n",
       "      <td>1219365755000</td>\n",
       "      <td>NNO_AOS_05_/_RTLT_02373</td>\n",
       "    </tr>\n",
       "    <tr>\n",
       "      <td>4</td>\n",
       "      <td>1219367159000</td>\n",
       "      <td>NNO_AOS_10_/_RTLT_02374</td>\n",
       "    </tr>\n",
       "    <tr>\n",
       "      <td>...</td>\n",
       "      <td>...</td>\n",
       "      <td>...</td>\n",
       "    </tr>\n",
       "    <tr>\n",
       "      <td>88959</td>\n",
       "      <td>1456788144000</td>\n",
       "      <td>2000_KM_ASCEND</td>\n",
       "    </tr>\n",
       "    <tr>\n",
       "      <td>88960</td>\n",
       "      <td>1456788281000</td>\n",
       "      <td>MRB_/_RANGE_06000KM_END</td>\n",
       "    </tr>\n",
       "    <tr>\n",
       "      <td>88961</td>\n",
       "      <td>1456788582000</td>\n",
       "      <td>KLZ_AOS_05_/_RTLT_01076</td>\n",
       "    </tr>\n",
       "    <tr>\n",
       "      <td>88962</td>\n",
       "      <td>1456789457000</td>\n",
       "      <td>4000_KM_ASCEND</td>\n",
       "    </tr>\n",
       "    <tr>\n",
       "      <td>88963</td>\n",
       "      <td>1456790121000</td>\n",
       "      <td>MRB_AOS_00</td>\n",
       "    </tr>\n",
       "  </tbody>\n",
       "</table>\n",
       "<p>329123 rows × 2 columns</p>\n",
       "</div>"
      ],
      "text/plain": [
       "               ut_ms              description\n",
       "0      1219364253000  MLG_LOS_05_/_RTLT_02373\n",
       "1      1219364356000  NNO_AOS_00_/_RTLT_02373\n",
       "2      1219365058000  MLG_LOS_02_/_RTLT_02373\n",
       "3      1219365755000  NNO_AOS_05_/_RTLT_02373\n",
       "4      1219367159000  NNO_AOS_10_/_RTLT_02374\n",
       "...              ...                      ...\n",
       "88959  1456788144000           2000_KM_ASCEND\n",
       "88960  1456788281000  MRB_/_RANGE_06000KM_END\n",
       "88961  1456788582000  KLZ_AOS_05_/_RTLT_01076\n",
       "88962  1456789457000           4000_KM_ASCEND\n",
       "88963  1456790121000               MRB_AOS_00\n",
       "\n",
       "[329123 rows x 2 columns]"
      ]
     },
     "execution_count": 30,
     "metadata": {},
     "output_type": "execute_result"
    }
   ],
   "source": [
    "frames = [event_pd1,event_pd2,event_pd3,event_pd4]\n",
    "event_full_df = pd.concat(frames)\n",
    "print(event_full_df.shape)\n",
    "event_full_df\n",
    "\n",
    "\n",
    "\n",
    "\n"
   ]
  },
  {
   "cell_type": "code",
   "execution_count": 31,
   "metadata": {},
   "outputs": [],
   "source": [
    "# merge the all the data files to data_full_df"
   ]
  },
  {
   "cell_type": "code",
   "execution_count": 32,
   "metadata": {},
   "outputs": [
    {
     "name": "stdout",
     "output_type": "stream",
     "text": [
      "(2748, 7)\n"
     ]
    },
    {
     "data": {
      "text/html": [
       "<div>\n",
       "<style scoped>\n",
       "    .dataframe tbody tr th:only-of-type {\n",
       "        vertical-align: middle;\n",
       "    }\n",
       "\n",
       "    .dataframe tbody tr th {\n",
       "        vertical-align: top;\n",
       "    }\n",
       "\n",
       "    .dataframe thead th {\n",
       "        text-align: right;\n",
       "    }\n",
       "</style>\n",
       "<table border=\"1\" class=\"dataframe\">\n",
       "  <thead>\n",
       "    <tr style=\"text-align: right;\">\n",
       "      <th></th>\n",
       "      <th>ut_ms</th>\n",
       "      <th>sunmars_km</th>\n",
       "      <th>earthmars_km</th>\n",
       "      <th>sunmarsearthangle_deg</th>\n",
       "      <th>solarconstantmars</th>\n",
       "      <th>eclipseduration_min</th>\n",
       "      <th>occultationduration_min</th>\n",
       "    </tr>\n",
       "  </thead>\n",
       "  <tbody>\n",
       "    <tr>\n",
       "      <td>0</td>\n",
       "      <td>1219363200000</td>\n",
       "      <td>2.419389e+08</td>\n",
       "      <td>3.557560e+08</td>\n",
       "      <td>19.565076</td>\n",
       "      <td>522.263999</td>\n",
       "      <td>4.166667</td>\n",
       "      <td>27.400000</td>\n",
       "    </tr>\n",
       "    <tr>\n",
       "      <td>1</td>\n",
       "      <td>1219449600000</td>\n",
       "      <td>2.418002e+08</td>\n",
       "      <td>3.563037e+08</td>\n",
       "      <td>19.390075</td>\n",
       "      <td>522.863537</td>\n",
       "      <td>1.783333</td>\n",
       "      <td>26.933333</td>\n",
       "    </tr>\n",
       "    <tr>\n",
       "      <td>2</td>\n",
       "      <td>1219536000000</td>\n",
       "      <td>2.416603e+08</td>\n",
       "      <td>3.568432e+08</td>\n",
       "      <td>19.214734</td>\n",
       "      <td>523.468926</td>\n",
       "      <td>0.000000</td>\n",
       "      <td>26.583333</td>\n",
       "    </tr>\n",
       "    <tr>\n",
       "      <td>3</td>\n",
       "      <td>1219622400000</td>\n",
       "      <td>2.415193e+08</td>\n",
       "      <td>3.573744e+08</td>\n",
       "      <td>19.039052</td>\n",
       "      <td>524.080161</td>\n",
       "      <td>0.000000</td>\n",
       "      <td>26.100000</td>\n",
       "    </tr>\n",
       "    <tr>\n",
       "      <td>4</td>\n",
       "      <td>1219708800000</td>\n",
       "      <td>2.413773e+08</td>\n",
       "      <td>3.578973e+08</td>\n",
       "      <td>18.863029</td>\n",
       "      <td>524.697233</td>\n",
       "      <td>0.000000</td>\n",
       "      <td>25.750000</td>\n",
       "    </tr>\n",
       "    <tr>\n",
       "      <td>...</td>\n",
       "      <td>...</td>\n",
       "      <td>...</td>\n",
       "      <td>...</td>\n",
       "      <td>...</td>\n",
       "      <td>...</td>\n",
       "      <td>...</td>\n",
       "      <td>...</td>\n",
       "    </tr>\n",
       "    <tr>\n",
       "      <td>682</td>\n",
       "      <td>1456358400000</td>\n",
       "      <td>2.426225e+08</td>\n",
       "      <td>1.686769e+08</td>\n",
       "      <td>36.964348</td>\n",
       "      <td>519.325219</td>\n",
       "      <td>20.366667</td>\n",
       "      <td>0.000000</td>\n",
       "    </tr>\n",
       "    <tr>\n",
       "      <td>683</td>\n",
       "      <td>1456444800000</td>\n",
       "      <td>2.424894e+08</td>\n",
       "      <td>1.671778e+08</td>\n",
       "      <td>36.919179</td>\n",
       "      <td>519.895378</td>\n",
       "      <td>20.150000</td>\n",
       "      <td>0.000000</td>\n",
       "    </tr>\n",
       "    <tr>\n",
       "      <td>684</td>\n",
       "      <td>1456531200000</td>\n",
       "      <td>2.423552e+08</td>\n",
       "      <td>1.656819e+08</td>\n",
       "      <td>36.869195</td>\n",
       "      <td>520.471408</td>\n",
       "      <td>19.916667</td>\n",
       "      <td>0.000000</td>\n",
       "    </tr>\n",
       "    <tr>\n",
       "      <td>685</td>\n",
       "      <td>1456617600000</td>\n",
       "      <td>2.422198e+08</td>\n",
       "      <td>1.641893e+08</td>\n",
       "      <td>36.814280</td>\n",
       "      <td>521.053305</td>\n",
       "      <td>19.633333</td>\n",
       "      <td>0.000000</td>\n",
       "    </tr>\n",
       "    <tr>\n",
       "      <td>686</td>\n",
       "      <td>1456704000000</td>\n",
       "      <td>2.420833e+08</td>\n",
       "      <td>1.627003e+08</td>\n",
       "      <td>36.754316</td>\n",
       "      <td>521.641064</td>\n",
       "      <td>19.383333</td>\n",
       "      <td>0.000000</td>\n",
       "    </tr>\n",
       "  </tbody>\n",
       "</table>\n",
       "<p>2748 rows × 7 columns</p>\n",
       "</div>"
      ],
      "text/plain": [
       "             ut_ms    sunmars_km  earthmars_km  sunmarsearthangle_deg  \\\n",
       "0    1219363200000  2.419389e+08  3.557560e+08              19.565076   \n",
       "1    1219449600000  2.418002e+08  3.563037e+08              19.390075   \n",
       "2    1219536000000  2.416603e+08  3.568432e+08              19.214734   \n",
       "3    1219622400000  2.415193e+08  3.573744e+08              19.039052   \n",
       "4    1219708800000  2.413773e+08  3.578973e+08              18.863029   \n",
       "..             ...           ...           ...                    ...   \n",
       "682  1456358400000  2.426225e+08  1.686769e+08              36.964348   \n",
       "683  1456444800000  2.424894e+08  1.671778e+08              36.919179   \n",
       "684  1456531200000  2.423552e+08  1.656819e+08              36.869195   \n",
       "685  1456617600000  2.422198e+08  1.641893e+08              36.814280   \n",
       "686  1456704000000  2.420833e+08  1.627003e+08              36.754316   \n",
       "\n",
       "     solarconstantmars  eclipseduration_min  occultationduration_min  \n",
       "0           522.263999             4.166667                27.400000  \n",
       "1           522.863537             1.783333                26.933333  \n",
       "2           523.468926             0.000000                26.583333  \n",
       "3           524.080161             0.000000                26.100000  \n",
       "4           524.697233             0.000000                25.750000  \n",
       "..                 ...                  ...                      ...  \n",
       "682         519.325219            20.366667                 0.000000  \n",
       "683         519.895378            20.150000                 0.000000  \n",
       "684         520.471408            19.916667                 0.000000  \n",
       "685         521.053305            19.633333                 0.000000  \n",
       "686         521.641064            19.383333                 0.000000  \n",
       "\n",
       "[2748 rows x 7 columns]"
      ]
     },
     "execution_count": 32,
     "metadata": {},
     "output_type": "execute_result"
    }
   ],
   "source": [
    "frames_data = [data_pd1,data_pd2,data_pd3,data_pd4]\n",
    "data_full_df = pd.concat(frames_data)\n",
    "print(data_full_df.shape)\n",
    "data_full_df\n",
    "\n",
    "\n"
   ]
  },
  {
   "cell_type": "code",
   "execution_count": null,
   "metadata": {},
   "outputs": [],
   "source": []
  },
  {
   "cell_type": "code",
   "execution_count": null,
   "metadata": {},
   "outputs": [],
   "source": []
  },
  {
   "cell_type": "code",
   "execution_count": null,
   "metadata": {},
   "outputs": [],
   "source": [
    "# Q1: how many times the eclipses happened per year?"
   ]
  },
  {
   "cell_type": "code",
   "execution_count": null,
   "metadata": {},
   "outputs": [],
   "source": [
    "# group the event_full and count the times of eclipses : count the Mar_penumbra_start"
   ]
  },
  {
   "cell_type": "code",
   "execution_count": null,
   "metadata": {},
   "outputs": [],
   "source": []
  },
  {
   "cell_type": "code",
   "execution_count": null,
   "metadata": {},
   "outputs": [],
   "source": [
    "# Q2: the average number of eclipses happened in 4 year?"
   ]
  },
  {
   "cell_type": "code",
   "execution_count": null,
   "metadata": {},
   "outputs": [],
   "source": [
    "# groupby and find the mean()"
   ]
  },
  {
   "cell_type": "code",
   "execution_count": null,
   "metadata": {},
   "outputs": [],
   "source": []
  },
  {
   "cell_type": "code",
   "execution_count": null,
   "metadata": {},
   "outputs": [],
   "source": [
    "# Q3: is the duration related to the distances to sun?"
   ]
  },
  {
   "cell_type": "code",
   "execution_count": null,
   "metadata": {},
   "outputs": [],
   "source": [
    "# get the duration of eclipses and add to the data_full "
   ]
  },
  {
   "cell_type": "code",
   "execution_count": null,
   "metadata": {},
   "outputs": [],
   "source": [
    "# split the data_full to few parts depends on the comparison of distance to sun (from away to closer)"
   ]
  },
  {
   "cell_type": "code",
   "execution_count": null,
   "metadata": {},
   "outputs": [],
   "source": []
  }
 ],
 "metadata": {
  "kernelspec": {
   "display_name": "Python 3",
   "language": "python",
   "name": "python3"
  },
  "language_info": {
   "codemirror_mode": {
    "name": "ipython",
    "version": 3
   },
   "file_extension": ".py",
   "mimetype": "text/x-python",
   "name": "python",
   "nbconvert_exporter": "python",
   "pygments_lexer": "ipython3",
   "version": "3.7.4"
  }
 },
 "nbformat": 4,
 "nbformat_minor": 2
}
